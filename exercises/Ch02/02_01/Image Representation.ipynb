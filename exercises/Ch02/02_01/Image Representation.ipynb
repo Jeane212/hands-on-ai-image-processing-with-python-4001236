{
 "cells": [
  {
   "cell_type": "markdown",
   "id": "7881fc0c",
   "metadata": {},
   "source": [
    "# Image Representation\n",
    "Raster images are represented as matrices of pixels."
   ]
  },
  {
   "cell_type": "code",
   "execution_count": null,
   "id": "82c3443d",
   "metadata": {},
   "outputs": [],
   "source": [
    "# Let's create a simple 3x3 Grayscale image.\n",
    "# Each pixel is a number (0-255) representing intensity.\n",
    "\n",
    "import numpy as np\n",
    "import matplotlib.pyplot as plt\n",
    "%config InlineBackend.figure_formats = 'retina'\n",
    "\n",
    "img = np.array([[   0, 255,   0],   #   black,  white,     black\n",
    "                [  50, 20,  50],   #    dark,  light,      dark\n",
    "                [ 70, 12, 140]])  # mid-dark,   mid, mid-light\n",
    "\n",
    "plt.imshow(img, cmap='gray')"
   ]
  },
  {
   "cell_type": "code",
   "execution_count": null,
   "id": "05506918",
   "metadata": {},
   "outputs": [],
   "source": [
    "# This is how it looks in a text representation\n",
    "\n",
    "print(img)\n",
    "type(img[2,1])"
   ]
  },
  {
   "cell_type": "code",
   "execution_count": null,
   "id": "6e7152be",
   "metadata": {},
   "outputs": [],
   "source": [
    "# Now let's create a simple 3x3 RGB image.\n",
    "# This time each pixel is an [R,G,B] triad.\n",
    "\n",
    "#                            red,   green,     blue\n",
    "#                           cyan, magenta,   yellow\n",
    "#                          black,   white, gray 50%\n",
    "img = np.array([[[120,   70,   50], [  70, 120,   50], [  50,   70, 120]],   \n",
    "                [[  0, 255, 255], [255,   0, 255], [255, 255,   0]],   \n",
    "                [[  0,   0,   0], [255, 255, 255], [127, 127, 127]]])  \n",
    "plt.axis(\"off\")\n",
    "plt.imshow(img)"
   ]
  },
  {
   "cell_type": "code",
   "execution_count": null,
   "id": "c9798975",
   "metadata": {},
   "outputs": [],
   "source": [
    "# This is how it looks in a text representation\n",
    "\n",
    "print(img)\n",
    "type(img[0,1,2])"
   ]
  },
  {
   "cell_type": "code",
   "execution_count": null,
   "id": "69d1f8f1",
   "metadata": {},
   "outputs": [],
   "source": [
    "# Now let's create the same image with floating point numbers.\n",
    "\n",
    "#                            red,   green,     blue\n",
    "#                           cyan, magenta,   yellow\n",
    "#                          black,   white, gray 50%\n",
    "img = np.array([[[1.5, 0.1, 0.9], [2.0, 1.1, 0.6], [0.2, 0.4, 1.2]],\n",
    "                [[0.0, 1.0, 1.0], [1.0, 0.0, 1.0], [1.0, 1.0, 0.0]],\n",
    "                [[0.0, 0.0, 0.0], [1.0, 1.0, 1.0], [0.5, 0.5, 0.5]]])\n",
    "plt.imshow(img)"
   ]
  },
  {
   "cell_type": "code",
   "execution_count": null,
   "id": "7bca7b59",
   "metadata": {},
   "outputs": [],
   "source": [
    "# This is how it looks in a text representation\n",
    "\n",
    "print(img)\n",
    "type(img[0,0,0])"
   ]
  }
 ],
 "metadata": {
  "kernelspec": {
   "display_name": "Python 3",
   "language": "python",
   "name": "python3"
  },
  "language_info": {
   "codemirror_mode": {
    "name": "ipython",
    "version": 3
   },
   "file_extension": ".py",
   "mimetype": "text/x-python",
   "name": "python",
   "nbconvert_exporter": "python",
   "pygments_lexer": "ipython3",
   "version": "3.12.1"
  }
 },
 "nbformat": 4,
 "nbformat_minor": 5
}
